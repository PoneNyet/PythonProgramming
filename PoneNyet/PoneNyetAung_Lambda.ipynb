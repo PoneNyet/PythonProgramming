{
  "nbformat": 4,
  "nbformat_minor": 0,
  "metadata": {
    "colab": {
      "provenance": []
    },
    "kernelspec": {
      "name": "python3",
      "display_name": "Python 3"
    },
    "language_info": {
      "name": "python"
    }
  },
  "cells": [
    {
      "cell_type": "code",
      "execution_count": null,
      "metadata": {
        "colab": {
          "base_uri": "https://localhost:8080/"
        },
        "id": "R23C--J8hgTx",
        "outputId": "d639a901-b807-4cda-8605-de59ccb381e8"
      },
      "outputs": [
        {
          "output_type": "execute_result",
          "data": {
            "text/plain": [
              "4"
            ]
          },
          "metadata": {},
          "execution_count": 1
        }
      ],
      "source": [
        "def square(n):\n",
        "  return n**2\n",
        "\n",
        "square(2)"
      ]
    },
    {
      "cell_type": "code",
      "source": [
        "def name(n, x):\n",
        "    return n * x\n",
        "\n",
        "name(3, \"pone_nyet\")"
      ],
      "metadata": {
        "colab": {
          "base_uri": "https://localhost:8080/",
          "height": 35
        },
        "id": "0SPz8amaiTEw",
        "outputId": "3c6ed56e-fb61-4986-c97b-94957bf53e4b"
      },
      "execution_count": null,
      "outputs": [
        {
          "output_type": "execute_result",
          "data": {
            "text/plain": [
              "'pone_nyetpone_nyetpone_nyet'"
            ],
            "application/vnd.google.colaboratory.intrinsic+json": {
              "type": "string"
            }
          },
          "metadata": {},
          "execution_count": 3
        }
      ]
    },
    {
      "cell_type": "code",
      "source": [
        "value_square = lambda value: value**2\n",
        "value_square(3)"
      ],
      "metadata": {
        "colab": {
          "base_uri": "https://localhost:8080/"
        },
        "id": "ptRqlBYamofO",
        "outputId": "d43562f4-dac1-4176-fc0a-d739c765960f"
      },
      "execution_count": null,
      "outputs": [
        {
          "output_type": "execute_result",
          "data": {
            "text/plain": [
              "9"
            ]
          },
          "metadata": {},
          "execution_count": 4
        }
      ]
    },
    {
      "cell_type": "code",
      "source": [
        "name = lambda a, b: a * b\n",
        "result = name(6, \"jelly\")\n",
        "print(result)"
      ],
      "metadata": {
        "colab": {
          "base_uri": "https://localhost:8080/"
        },
        "id": "N7wianT9nIh8",
        "outputId": "9a484247-e2e6-4116-d4f0-907895df5e28"
      },
      "execution_count": null,
      "outputs": [
        {
          "output_type": "stream",
          "name": "stdout",
          "text": [
            "jellyjellyjellyjellyjellyjelly\n"
          ]
        }
      ]
    },
    {
      "cell_type": "code",
      "source": [
        "age = lambda year: 2023-year\n",
        "age(1983)"
      ],
      "metadata": {
        "colab": {
          "base_uri": "https://localhost:8080/"
        },
        "id": "-PT1pdxooCyv",
        "outputId": "4754c8f2-0dbb-4899-abe9-d5034da9567b"
      },
      "execution_count": null,
      "outputs": [
        {
          "output_type": "execute_result",
          "data": {
            "text/plain": [
              "40"
            ]
          },
          "metadata": {},
          "execution_count": 10
        }
      ]
    },
    {
      "cell_type": "code",
      "source": [
        "age = lambda b_year, c_year: c_year - b_year\n",
        "print(age(2004,2023))"
      ],
      "metadata": {
        "colab": {
          "base_uri": "https://localhost:8080/"
        },
        "id": "OO8xfwxTpGh2",
        "outputId": "0303a975-61c8-4611-e38a-ad7b75f3a43c"
      },
      "execution_count": null,
      "outputs": [
        {
          "output_type": "stream",
          "name": "stdout",
          "text": [
            "19\n"
          ]
        }
      ]
    },
    {
      "cell_type": "code",
      "source": [
        "year_list = [1998, 1993, 2000, 2001, 1999, 2023, 1996]\n",
        "age = lambda year: 2023 - list(map(year_list))\n",
        "print(age)"
      ],
      "metadata": {
        "colab": {
          "base_uri": "https://localhost:8080/"
        },
        "id": "lmmg7M9apGL_",
        "outputId": "e105a4b0-03ed-456d-bf35-639c3b64b0ff"
      },
      "execution_count": null,
      "outputs": [
        {
          "output_type": "stream",
          "name": "stdout",
          "text": [
            "<function <lambda> at 0x799def4179a0>\n"
          ]
        }
      ]
    },
    {
      "cell_type": "code",
      "source": [
        "year_list = [1998, 1993, 2000, 2001, 1999, 2023, 1996]\n",
        "\n",
        "c_year = 2023\n",
        "\n",
        "age_list = list(map(lambda year: c_year - year, year_list))\n",
        "\n",
        "print(age_list)"
      ],
      "metadata": {
        "colab": {
          "base_uri": "https://localhost:8080/"
        },
        "id": "LlpFKYb_pFUv",
        "outputId": "8d295c9a-60b7-45f3-8e7d-5ad4877fd803"
      },
      "execution_count": null,
      "outputs": [
        {
          "output_type": "stream",
          "name": "stdout",
          "text": [
            "[25, 30, 23, 22, 24, 0, 27]\n"
          ]
        }
      ]
    },
    {
      "cell_type": "code",
      "source": [
        "lam_condition = lambda cond: \"you_are_too_young\" if len(year_list)<2000 else \"you_are_too_old\"\n",
        "years_map_cond = [*map(lam_condition, year_list)]\n",
        "years_map_cond"
      ],
      "metadata": {
        "colab": {
          "base_uri": "https://localhost:8080/"
        },
        "id": "NK5-EbDlsZwg",
        "outputId": "3ea025a3-22de-413b-ce99-6147852f334d"
      },
      "execution_count": null,
      "outputs": [
        {
          "output_type": "execute_result",
          "data": {
            "text/plain": [
              "['you_are_too_old',\n",
              " 'you_are_too_old',\n",
              " 'you_are_too_old',\n",
              " 'you_are_too_old',\n",
              " 'you_are_too_old',\n",
              " 'you_are_too_old',\n",
              " 'you_are_too_old']"
            ]
          },
          "metadata": {},
          "execution_count": 20
        }
      ]
    },
    {
      "cell_type": "code",
      "source": [
        "year_list = [1998, 1993, 2000, 2001, 1999, 2023, 1996]\n",
        "\n",
        "lam_condition = lambda age: (\"too yound\" if age > 2000 else \"too old\")\n",
        "ans_condition = [*map(lam_condition, year_list)]\n",
        "print(ans_condition)"
      ],
      "metadata": {
        "id": "H43V9F6dvob_"
      },
      "execution_count": null,
      "outputs": []
    },
    {
      "cell_type": "code",
      "source": [
        "calculate_price = lambda cost: cost + (0.10 * cost)\n",
        "\n",
        "cost = 100.0\n",
        "price = calculate_price(cost)\n",
        "print(price)"
      ],
      "metadata": {
        "id": "I6uv0X9VyRzr"
      },
      "execution_count": null,
      "outputs": []
    }
  ]
}