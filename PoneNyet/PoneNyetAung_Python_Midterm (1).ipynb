{
  "nbformat": 4,
  "nbformat_minor": 0,
  "metadata": {
    "colab": {
      "provenance": []
    },
    "kernelspec": {
      "name": "python3",
      "display_name": "Python 3"
    },
    "language_info": {
      "name": "python"
    }
  },
  "cells": [
    {
      "cell_type": "markdown",
      "source": [
        "1) Write a Python program to create a dictionary that count the frequency of words in the string given in Q1.txt. Find the most frequent occured word."
      ],
      "metadata": {
        "id": "bBSbIZTtW7q4"
      }
    },
    {
      "cell_type": "code",
      "execution_count": 32,
      "metadata": {
        "id": "l6y53V9ZWzox",
        "colab": {
          "base_uri": "https://localhost:8080/"
        },
        "outputId": "1559bccb-6815-43b8-8391-15f7a2ab9b05"
      },
      "outputs": [
        {
          "output_type": "stream",
          "name": "stdout",
          "text": [
            "The most frequent word is 'it' with a frequency of 5.\n"
          ]
        }
      ],
      "source": [
        "#step 1: read content from Q1.txt into list\n",
        "with open('Q1.txt', 'r') as file1:\n",
        "    wordlist = file1.read()\n",
        "\n",
        "#Step 2:\n",
        "punctuation = \".,!?;:()[]{}'\\\"\"\n",
        "words = [word.strip(punctuation) for word in wordlist.lower().split()]\n",
        "\n",
        "#Step 3:\n",
        "word_freq = {}\n",
        "for word in words:\n",
        "    if word in word_freq:\n",
        "        word_freq[word] = word_freq[word] + 1\n",
        "    else:\n",
        "        word_freq[word] = 1\n",
        "\n",
        "#Step 4:\n",
        "max_frequency = 0\n",
        "for word, frequency in word_freq.items():\n",
        "    if frequency > max_frequency:\n",
        "        most_frequent_word = word\n",
        "        max_frequency = frequency\n",
        "frequency = word_freq[most_frequent_word]\n",
        "\n",
        "print(\"The most frequent word is '{}' with a frequency of {}.\".format(most_frequent_word, frequency))"
      ]
    },
    {
      "cell_type": "markdown",
      "source": [
        "2) Write a Python program to read the name from Q2.txt and create email using domain 'parami.edu.mm' and save the results as dictionary :\n",
        "{'name': 'name@parami.edu.mm'}.\n",
        "Please take note that your email should not include space or any special characters and all charcters should be in lowercase."
      ],
      "metadata": {
        "id": "aQP7q021Xr9W"
      }
    },
    {
      "cell_type": "code",
      "source": [
        "# Step 1: Read Q2.txt into the list\n",
        "with open('Q2.txt', 'r') as names_file:\n",
        "    header = names_file.readline()\n",
        "    namelist = names_file.readlines()\n",
        "\n",
        "# Step 2:\n",
        "email_dict = {}\n",
        "\n",
        "for name in namelist:\n",
        "    cleaned_name = name.strip()\n",
        "    for char in punctuation:\n",
        "        cleaned_name = cleaned_name.replace(char, '')\n",
        "    cleaned_name = cleaned_name.replace(\" \", '').lower()\n",
        "\n",
        "    email = '{}@parami.edu.mm'.format(cleaned_name)\n",
        "\n",
        "    email_dict[name.strip()] = email\n",
        "\n",
        "email_dict"
      ],
      "metadata": {
        "id": "2B2TGvQCXuR3",
        "colab": {
          "base_uri": "https://localhost:8080/"
        },
        "outputId": "44b9b7fa-ece6-4a05-e97a-9ca5f41c500f"
      },
      "execution_count": 28,
      "outputs": [
        {
          "output_type": "execute_result",
          "data": {
            "text/plain": [
              "{'Dechen Dorji': 'dechendorji@parami.edu.mm',\n",
              " 'Deki Tshomo': 'dekitshomo@parami.edu.mm',\n",
              " 'Dorji Tshering': 'dorjitshering@parami.edu.mm',\n",
              " 'Dorji Wangmo': 'dorjiwangmo@parami.edu.mm',\n",
              " 'Gem Tshering Lepcha': 'gemtsheringlepcha@parami.edu.mm',\n",
              " 'Jigme Dorji': 'jigmedorji@parami.edu.mm',\n",
              " 'Kinley Cheki': 'kinleycheki@parami.edu.mm',\n",
              " 'Kinley Wangmo': 'kinleywangmo@parami.edu.mm',\n",
              " 'Ngawang Dema Karpo': 'ngawangdemakarpo@parami.edu.mm',\n",
              " 'Roshan Chhetri': 'roshanchhetri@parami.edu.mm',\n",
              " 'Sonam Tenzin': 'sonamtenzin@parami.edu.mm',\n",
              " 'Sonam Tobgay': 'sonamtobgay@parami.edu.mm',\n",
              " 'Sonam Yangden': 'sonamyangden@parami.edu.mm',\n",
              " 'Tandin Om': 'tandinom@parami.edu.mm',\n",
              " 'Tandin Wangchuk': 'tandinwangchuk@parami.edu.mm',\n",
              " 'Tashi Om': 'tashiom@parami.edu.mm',\n",
              " 'Tenday Zangmo': 'tendayzangmo@parami.edu.mm',\n",
              " 'Tshering Pem': 'tsheringpem@parami.edu.mm',\n",
              " 'Ugyen Phurpa': 'ugyenphurpa@parami.edu.mm',\n",
              " 'Marmitt': 'marmitt@parami.edu.mm'}"
            ]
          },
          "metadata": {},
          "execution_count": 28
        }
      ]
    }
  ]
}